{
 "cells": [
  {
   "cell_type": "code",
   "execution_count": 1,
   "metadata": {
    "collapsed": true
   },
   "outputs": [],
   "source": [
    "import math\n",
    "import random\n",
    "import statistics\n",
    "import matplotlib.pyplot as plt\n"
   ]
  },
  {
   "cell_type": "code",
   "execution_count": 2,
   "metadata": {
    "collapsed": true
   },
   "outputs": [],
   "source": [
    "%matplotlib inline\n"
   ]
  },
  {
   "cell_type": "code",
   "execution_count": 14,
   "metadata": {
    "collapsed": false
   },
   "outputs": [
    {
     "name": "stdout",
     "output_type": "stream",
     "text": [
      "[(0, 2), (1, 2), (1, 4), (2, 7), (8, 9), (14, 19), (25, 40), (67, 62), (134, 123), (262, 251), (512, 513), (985, 1064), (2013, 2084), (4070, 4123), (8218, 8167), (16428, 16341)]\n"
     ]
    }
   ],
   "source": [
    "def flip_coin(n):\n",
    "    heads = 0\n",
    "    tails = 0\n",
    "    coin_flips = []\n",
    "    for x in range(2**n):\n",
    "        result = random.choice(['heads', 'tails'])\n",
    "        if result == 'heads':\n",
    "            heads += 1\n",
    "        elif result == 'tails':\n",
    "            tails += 1\n",
    "        if x == 2**0 or x == 2**1 or x == 2**2 or x == 2**3 or x == 2**4 or x == 2**5 or x == 2**6 or x == 2**7 or x == 2**8 or x == 2**9 or x == 2**10 or x == 2**11 or x == 2**12 or x == 2**13 or x == 2**14 or x == 2**15 or x == 2**16:\n",
    "            coin_flips.append((heads, tails))\n",
    "    return coin_flips\n",
    "\n",
    "print(flip_coin(16))\n"
   ]
  },
  {
   "cell_type": "code",
   "execution_count": 16,
   "metadata": {
    "collapsed": false
   },
   "outputs": [
    {
     "name": "stdout",
     "output_type": "stream",
     "text": [
      "[0, 1, 1, 1, 1, 1, 1, 7, 21, 35, 27, 87, 53, 161, 21, 153]\n"
     ]
    }
   ],
   "source": [
    "def diff_flips(list_tupes):\n",
    "    diff_list = []\n",
    "    for x, y in list_tupes:\n",
    "        diff_list.append(abs(x-y))\n",
    "    return diff_list\n",
    "print(diff_flips(flip_coin(16)))"
   ]
  },
  {
   "cell_type": "code",
   "execution_count": null,
   "metadata": {
    "collapsed": true
   },
   "outputs": [],
   "source": []
  }
 ],
 "metadata": {
  "kernelspec": {
   "display_name": "Python 3",
   "language": "python",
   "name": "python3"
  },
  "language_info": {
   "codemirror_mode": {
    "name": "ipython",
    "version": 3
   },
   "file_extension": ".py",
   "mimetype": "text/x-python",
   "name": "python",
   "nbconvert_exporter": "python",
   "pygments_lexer": "ipython3",
   "version": "3.4.3"
  }
 },
 "nbformat": 4,
 "nbformat_minor": 0
}
