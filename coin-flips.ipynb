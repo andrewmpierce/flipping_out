{
 "cells": [
  {
   "cell_type": "code",
   "execution_count": 36,
   "metadata": {
    "collapsed": true
   },
   "outputs": [],
   "source": [
    "import math\n",
    "import random\n",
    "import statistics as st\n",
    "import matplotlib.pyplot as plt\n"
   ]
  },
  {
   "cell_type": "code",
   "execution_count": 37,
   "metadata": {
    "collapsed": true
   },
   "outputs": [],
   "source": [
    "%matplotlib inline\n"
   ]
  },
  {
   "cell_type": "code",
   "execution_count": 10,
   "metadata": {
    "collapsed": false
   },
   "outputs": [
    {
     "name": "stdout",
     "output_type": "stream",
     "text": [
      "[(0, 1), (1, 1), (2, 2), (4, 4), (10, 6), (18, 14), (41, 23), (77, 51), (146, 110), (274, 238), (523, 501), (1037, 1011), (2056, 2040), (4123, 4069), (8234, 8150), (16391, 16377), (32698, 32838)]\n"
     ]
    }
   ],
   "source": [
    "def flip_coin(n):\n",
    "    heads = 0\n",
    "    tails = 0\n",
    "    coin_flips = []\n",
    "    for x in range(n):\n",
    "        result = random.choice(['heads', 'tails'])\n",
    "        if result == 'heads':\n",
    "            heads += 1\n",
    "        else:\n",
    "            tails += 1\n",
    "        if math.log2(x+1) % 1 == 0:\n",
    "            coin_flips.append((heads, tails))\n",
    "    return coin_flips\n",
    "\n",
    "print(flip_coin(2**16))\n"
   ]
  },
  {
   "cell_type": "code",
   "execution_count": 19,
   "metadata": {
    "collapsed": false
   },
   "outputs": [
    {
     "name": "stdout",
     "output_type": "stream",
     "text": [
      "[1, 0, 2, 2, 2, 2, 6, 20, 30, 50, 64, 40, 2, 100, 54, 58, 212]\n"
     ]
    }
   ],
   "source": [
    "def diff_flips(list_tupes):\n",
    "    diff_list = []\n",
    "    for x, y in list_tupes:\n",
    "        diff_list.append(abs(x-y))\n",
    "    return diff_list\n",
    "\n",
    "print(diff_flips(flip_coin(2**16)))"
   ]
  },
  {
   "cell_type": "code",
   "execution_count": 28,
   "metadata": {
    "collapsed": false
   },
   "outputs": [
    {
     "data": {
      "image/png": "[encoded data removed]",
      "text/plain": [
       "<matplotlib.figure.Figure at 0x10aaf22e8>"
      ]
     },
     "metadata": {},
     "output_type": "display_data"
    }
   ],
   "source": [
    "plt.plot(diff_flips(flip_coin(2**16)))\n",
    "plt.show()"
   ]
  },
  {
   "cell_type": "code",
   "execution_count": 24,
   "metadata": {
    "collapsed": false
   },
   "outputs": [
    {
     "name": "stdout",
     "output_type": "stream",
     "text": [
      "[0.0, 0.5, 0.75, 0.75, 0.5, 0.4375, 0.390625, 0.46875, 0.51171875, 0.494140625, 0.490234375, 0.50537109375, 0.499755859375, 0.4967041015625, 0.49859619140625, 0.4990234375, 0.5000457763671875]\n"
     ]
    }
   ],
   "source": [
    "def ratio_flips(list_tupes):\n",
    "    ratios = []\n",
    "    for x,y in list_tupes:\n",
    "        ratios.append(x/(x+y))\n",
    "    return ratios\n",
    "print(ratio_flips(flip_coin(2**16)))"
   ]
  },
  {
   "cell_type": "code",
   "execution_count": 12,
   "metadata": {
    "collapsed": false
   },
   "outputs": [
    {
     "data": {
      "image/png": "[encoded data removed]",
      "text/plain": [
       "<matplotlib.figure.Figure at 0x10a62cc88>"
      ]
     },
     "metadata": {},
     "output_type": "display_data"
    }
   ],
   "source": [
    "plt.plot(ratio_flips(flip_coin(2**16)))\n",
    "plt.show()"
   ]
  },
  {
   "cell_type": "code",
   "execution_count": 25,
   "metadata": {
    "collapsed": false
   },
   "outputs": [
    {
     "data": {
      "image/png": "[encoded data removed]",
      "text/plain": [
       "<matplotlib.figure.Figure at 0x10ab194e0>"
      ]
     },
     "metadata": {},
     "output_type": "display_data"
    }
   ],
   "source": [
    "x_values = [2**0, 2**1, 2**2, 2** 3, 2**4, 2**5, 2**6, 2**7, 2**8, 2**9, 2**10, 2**11, 2**12, 2**13, 2**14, 2**15, 2**16]\n",
    "\n",
    "plt.scatter(x_values, diff_flips(flip_coin(2**16)))\n",
    "plt.xscale('log')\n",
    "plt.show()"
   ]
  },
  {
   "cell_type": "code",
   "execution_count": 30,
   "metadata": {
    "collapsed": false
   },
   "outputs": [
    {
     "data": {
      "image/png": "[encoded data removed]",
      "text/plain": [
       "<matplotlib.figure.Figure at 0x10a96dba8>"
      ]
     },
     "metadata": {},
     "output_type": "display_data"
    }
   ],
   "source": [
    "plt.scatter(x_values, ratio_flips(flip_coin(2**16)))\n",
    "plt.xscale('log')\n",
    "plt.show()"
   ]
  },
  {
   "cell_type": "markdown",
   "metadata": {
    "collapsed": true
   },
   "source": [
    "It is interesting to see the 'random walk' in effect in the differences graph. The ratio graph is interesting in how in stabilizes fairly quickly. In the first few data points the small sample set allows for potentially large ratios. However as the data set gets larger it also stabilizes somewhat."
   ]
  },
  {
   "cell_type": "code",
   "execution_count": 71,
   "metadata": {
    "collapsed": false
   },
   "outputs": [
    {
     "data": {
      "image/png": "[encoded data removed]",
      "text/plain": [
       "<matplotlib.figure.Figure at 0x10ad10668>"
      ]
     },
     "metadata": {},
     "output_type": "display_data"
    }
   ],
   "source": [
    "def twenty_trials():\n",
    "    all_ratios = []\n",
    "    for x in range(20):\n",
    "        all_ratios.append(ratio_flips(flip_coin(2**16)))\n",
    "    return all_ratios\n",
    "\n",
    "final_ratios = []\n",
    "for x in list(zip(*twenty_trials())):\n",
    "    final_ratios.append(st.mean(x))\n",
    "\n",
    "plt.scatter(x_values, final_ratios)\n",
    "plt.xscale('log')\n",
    "plt.show()"
   ]
  },
  {
   "cell_type": "code",
   "execution_count": 74,
   "metadata": {
    "collapsed": false
   },
   "outputs": [
    {
     "data": {
      "image/png": "[encoded data removed]",
      "text/plain": [
       "<matplotlib.figure.Figure at 0x10aa992b0>"
      ]
     },
     "metadata": {},
     "output_type": "display_data"
    }
   ],
   "source": [
    "stddev = []\n",
    "for x in list(zip(*twenty_trials())):\n",
    "    stddev.append(st.stdev(x))\n",
    "plt.scatter(x_values, stddev)\n",
    "plt.yscale('log')\n",
    "plt.xscale('log')\n",
    "plt.show()"
   ]
  },
  {
   "cell_type": "code",
   "execution_count": 89,
   "metadata": {
    "collapsed": false
   },
   "outputs": [
    {
     "data": {
      "image/png": "[encoded data removed]",
      "text/plain": [
       "<matplotlib.figure.Figure at 0x10c1ae668>"
      ]
     },
     "metadata": {},
     "output_type": "display_data"
    }
   ],
   "source": [
    "def new_flip(n):\n",
    "    heads = 0\n",
    "    for x in range(n):\n",
    "        flip = random.choice(['heads','tails'])\n",
    "        if flip == 'heads':\n",
    "            heads += 1\n",
    "    return heads/100\n",
    "            \n",
    "def trials(n):\n",
    "    res = [new_flip(100) for x in range(n)]\n",
    "    return res\n",
    "\n",
    "plt.hist(trials(100000))\n",
    "plt.show()"
   ]
  },
  {
   "cell_type": "code",
   "execution_count": null,
   "metadata": {
    "collapsed": true
   },
   "outputs": [],
   "source": [
    "plt.boxplot(trials(100000))\n",
    "plt.show()"
   ]
  },
  {
   "cell_type": "code",
   "execution_count": null,
   "metadata": {
    "collapsed": true
   },
   "outputs": [],
   "source": [
    "def trials(n):\n",
    "    res = [new_flip(1000) for x in range(n)]\n",
    "    return res\n",
    "\n",
    "plt.hist(trials(100000))\n",
    "plt.show()"
   ]
  },
  {
   "cell_type": "code",
   "execution_count": null,
   "metadata": {
    "collapsed": true
   },
   "outputs": [],
   "source": [
    "plt.boxplot()"
   ]
  },
  {
   "cell_type": "code",
   "execution_count": null,
   "metadata": {
    "collapsed": true
   },
   "outputs": [],
   "source": []
  },
  {
   "cell_type": "code",
   "execution_count": null,
   "metadata": {
    "collapsed": true
   },
   "outputs": [],
   "source": []
  },
  {
   "cell_type": "code",
   "execution_count": null,
   "metadata": {
    "collapsed": true
   },
   "outputs": [],
   "source": []
  }
 ],
 "metadata": {
  "kernelspec": {
   "display_name": "Python 3",
   "language": "python",
   "name": "python3"
  },
  "language_info": {
   "codemirror_mode": {
    "name": "ipython",
    "version": 3
   },
   "file_extension": ".py",
   "mimetype": "text/x-python",
   "name": "python",
   "nbconvert_exporter": "python",
   "pygments_lexer": "ipython3",
   "version": "3.4.3"
  }
 },
 "nbformat": 4,
 "nbformat_minor": 0
}
