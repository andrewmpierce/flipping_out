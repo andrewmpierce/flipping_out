{
 "cells": [
  {
   "cell_type": "code",
   "execution_count": 2,
   "metadata": {
    "collapsed": true
   },
   "outputs": [],
   "source": [
    "import math\n",
    "import random\n",
    "import statistics\n",
    "import matplotlib.pyplot as plt\n"
   ]
  },
  {
   "cell_type": "code",
   "execution_count": 3,
   "metadata": {
    "collapsed": true
   },
   "outputs": [],
   "source": [
    "%matplotlib inline\n"
   ]
  },
  {
   "cell_type": "code",
   "execution_count": 4,
   "metadata": {
    "collapsed": false
   },
   "outputs": [
    {
     "name": "stdout",
     "output_type": "stream",
     "text": [
      "[(2, 0), (2, 1), (4, 1), (5, 4), (9, 8), (19, 14), (28, 37), (59, 70), (123, 134), (252, 261), (496, 529), (1026, 1023), (2042, 2055), (4127, 4066), (8253, 8132), (16430, 16339)]\n"
     ]
    }
   ],
   "source": [
    "def flip_coin(n):\n",
    "    heads = 0\n",
    "    tails = 0\n",
    "    coin_flips = []\n",
    "    for x in range(2**n):\n",
    "        result = random.choice(['heads', 'tails'])\n",
    "        if result == 'heads':\n",
    "            heads += 1\n",
    "        elif result == 'tails':\n",
    "            tails += 1\n",
    "        if x == 2**0 or x == 2**1 or x == 2**2 or x == 2**3 or x == 2**4 or x == 2**5 or x == 2**6 or x == 2**7 or x == 2**8 or x == 2**9 or x == 2**10 or x == 2**11 or x == 2**12 or x == 2**13 or x == 2**14 or x == 2**15 or x == 2**16:\n",
    "            coin_flips.append((heads, tails))\n",
    "    return coin_flips\n",
    "\n",
    "print(flip_coin(16))\n"
   ]
  },
  {
   "cell_type": "code",
   "execution_count": 19,
   "metadata": {
    "collapsed": false
   },
   "outputs": [
    {
     "name": "stdout",
     "output_type": "stream",
     "text": [
      "[2, 3, 3, 1, 1, 3, 1, 7, 1, 35, 61, 41, 27, 33, 83, 219]\n"
     ]
    }
   ],
   "source": [
    "def diff_flips(list_tupes):\n",
    "    diff_list = []\n",
    "    for x, y in list_tupes:\n",
    "        diff_list.append(abs(x-y))\n",
    "    return diff_list\n",
    "print(diff_flips(flip_coin(16)))"
   ]
  },
  {
   "cell_type": "code",
   "execution_count": 20,
   "metadata": {
    "collapsed": false
   },
   "outputs": [
    {
     "data": {
      "image/png": "[encoded data removed]",
      "text/plain": [
       "<matplotlib.figure.Figure at 0x10ee35c18>"
      ]
     },
     "metadata": {},
     "output_type": "display_data"
    }
   ],
   "source": [
    "plt.plot(diff_flips(flip_coin(16)))\n",
    "plt.show()"
   ]
  },
  {
   "cell_type": "code",
   "execution_count": 11,
   "metadata": {
    "collapsed": false
   },
   "outputs": [
    {
     "name": "stdout",
     "output_type": "stream",
     "text": [
      "[0.0, 0.5, 0.6666666666666666, 1.25, 1.4285714285714286, 0.9411764705882353, 0.7105263157894737, 0.8428571428571429, 0.8897058823529411, 0.9730769230769231, 0.9523809523809523, 0.9701923076923077, 1.061902365374937, 1.0304832713754646, 1.0030562347188263, 1.0090123229722274]\n"
     ]
    }
   ],
   "source": [
    "def ratio_flips(list_tupes):\n",
    "    ratios = []\n",
    "    for x,y in list_tupes:\n",
    "        ratios.append(x/y)\n",
    "    return ratios"
   ]
  },
  {
   "cell_type": "code",
   "execution_count": 14,
   "metadata": {
    "collapsed": false
   },
   "outputs": [
    {
     "data": {
      "image/png": "[encoded data removed]",
      "text/plain": [
       "<matplotlib.figure.Figure at 0x10ecdb828>"
      ]
     },
     "metadata": {},
     "output_type": "display_data"
    }
   ],
   "source": [
    "plt.plot(ratio_flips(flip_coin(16)))\n",
    "plt.show()"
   ]
  },
  {
   "cell_type": "code",
   "execution_count": 15,
   "metadata": {
    "collapsed": false
   },
   "outputs": [
    {
     "ename": "TypeError",
     "evalue": "scatter() missing 1 required positional argument: 'y'",
     "output_type": "error",
     "traceback": [
      "\u001b[0;31m---------------------------------------------------------------------------\u001b[0m",
      "\u001b[0;31mTypeError\u001b[0m                                 Traceback (most recent call last)",
      "\u001b[0;32m<ipython-input-15-a586e1623a6c>\u001b[0m in \u001b[0;36m<module>\u001b[0;34m()\u001b[0m\n\u001b[0;32m----> 1\u001b[0;31m \u001b[0mplt\u001b[0m\u001b[0;34m.\u001b[0m\u001b[0mscatter\u001b[0m\u001b[0;34m(\u001b[0m\u001b[0mdiff_flips\u001b[0m\u001b[0;34m(\u001b[0m\u001b[0mflip_coin\u001b[0m\u001b[0;34m(\u001b[0m\u001b[0;36m16\u001b[0m\u001b[0;34m)\u001b[0m\u001b[0;34m)\u001b[0m\u001b[0;34m)\u001b[0m\u001b[0;34m\u001b[0m\u001b[0m\n\u001b[0m\u001b[1;32m      2\u001b[0m \u001b[0mplt\u001b[0m\u001b[0;34m.\u001b[0m\u001b[0mshow\u001b[0m\u001b[0;34m(\u001b[0m\u001b[0;34m)\u001b[0m\u001b[0;34m\u001b[0m\u001b[0m\n",
      "\u001b[0;31mTypeError\u001b[0m: scatter() missing 1 required positional argument: 'y'"
     ]
    }
   ],
   "source": [
    "x_values = [1, 2, 3, 4, 5, 6, 7, 8, 9, 10, 11, 12, 13, 14, 15, 16]\n",
    "\n",
    "plt.scatter(diff_flips(flip_coin(16)))\n",
    "plt.show()"
   ]
  },
  {
   "cell_type": "code",
   "execution_count": null,
   "metadata": {
    "collapsed": true
   },
   "outputs": [],
   "source": []
  }
 ],
 "metadata": {
  "kernelspec": {
   "display_name": "Python 3",
   "language": "python",
   "name": "python3"
  },
  "language_info": {
   "codemirror_mode": {
    "name": "ipython",
    "version": 3
   },
   "file_extension": ".py",
   "mimetype": "text/x-python",
   "name": "python",
   "nbconvert_exporter": "python",
   "pygments_lexer": "ipython3",
   "version": "3.4.3"
  }
 },
 "nbformat": 4,
 "nbformat_minor": 0
}
